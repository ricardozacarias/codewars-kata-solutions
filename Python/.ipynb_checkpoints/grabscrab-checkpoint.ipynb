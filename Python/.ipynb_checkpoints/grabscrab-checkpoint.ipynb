{
 "cells": [
  {
   "cell_type": "markdown",
   "metadata": {},
   "source": [
    "### Arrh, grabscrab!\n",
    "\n",
    "#### Pirates have notorious difficulty with enunciating. They tend to blur all the letters together and scream at people.\n",
    "\n",
    "- At long last, we need a way to unscramble what these pirates are saying.\n",
    "\n",
    "- Write a function that will accept a jumble of letters as well as a dictionary, and output a list of words that the pirate might have meant."
   ]
  },
  {
   "cell_type": "code",
   "execution_count": 3,
   "metadata": {},
   "outputs": [],
   "source": [
    "from itertools import permutations\n",
    "\n",
    "def grabscrab(word, possible_words):\n",
    "    \n",
    "    \"\"\" \n",
    "    Anagrams words and checks for possible matches.\n",
    "    Input: a nonsense word a pirate said, and a a list of words they may have meant.\n",
    "    Output: a sublist of possible_words that are actually possible.\n",
    "    \"\"\"\n",
    "    \n",
    "    # get every word in possible word that is within the possible permutations of word.\n",
    "    return [w for w in possible_words if w in [''.join(l) for l in permutations(word)]]\n"
   ]
  }
 ],
 "metadata": {
  "kernelspec": {
   "display_name": "Python 3",
   "language": "python",
   "name": "python3"
  },
  "language_info": {
   "codemirror_mode": {
    "name": "ipython",
    "version": 3
   },
   "file_extension": ".py",
   "mimetype": "text/x-python",
   "name": "python",
   "nbconvert_exporter": "python",
   "pygments_lexer": "ipython3",
   "version": "3.7.4"
  }
 },
 "nbformat": 4,
 "nbformat_minor": 2
}
