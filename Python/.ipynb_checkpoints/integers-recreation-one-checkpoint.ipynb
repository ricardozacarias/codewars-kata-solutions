{
 "cells": [
  {
   "cell_type": "markdown",
   "metadata": {},
   "source": [
    "### Integers: Recreation One\n",
    "#### tags: fundamentals, algorithms, optimization\n",
    "\n",
    "1. Divisors of 42 are : 1, 2, 3, 6, 7, 14, 21, 42. \n",
    "2. These divisors squared are: 1, 4, 9, 36, 49, 196, 441, 1764. \n",
    "3. The sum of the squared divisors is 2500 which is 50 * 50, a square!\n",
    "\n",
    "- Given two integers **m, n (1 <= m <= n)** we want to find all integers between m and n whose sum of squared divisors is itself a square. 42 is such a number.\n",
    "\n",
    "- The result will be an array of arrays or of tuples (in C an array of Pair) or a string, each subarray having two elements, first the number whose squared divisors is a square and then the sum of the squared divisors."
   ]
  },
  {
   "cell_type": "code",
   "execution_count": null,
   "metadata": {},
   "outputs": [],
   "source": [
    "def list_squared(m, n):\n",
    "    \n",
    "    \"\"\" \n",
    "    Finds all integers between m and n whose sum of squared divisors is itself a square.\n",
    "    Input: m, n (1 <= m <= n) (ints)\n",
    "    Output: array of tuples, first number, second the sum of squared divisors\n",
    "    \"\"\"\n"
   ]
  }
 ],
 "metadata": {
  "kernelspec": {
   "display_name": "Python 3",
   "language": "python",
   "name": "python3"
  },
  "language_info": {
   "codemirror_mode": {
    "name": "ipython",
    "version": 3
   },
   "file_extension": ".py",
   "mimetype": "text/x-python",
   "name": "python",
   "nbconvert_exporter": "python",
   "pygments_lexer": "ipython3",
   "version": "3.7.4"
  }
 },
 "nbformat": 4,
 "nbformat_minor": 2
}
