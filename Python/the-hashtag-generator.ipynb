{
 "cells": [
  {
   "cell_type": "markdown",
   "metadata": {},
   "source": [
    "### The Hashtag Generator\n",
    "\n",
    "#### The marketing team is spending way too much time typing in hashtags. Let's help them with our own Hashtag Generator!\n",
    "\n",
    "**Here's the deal:**\n",
    "\n",
    "- It must start with a hashtag (#).\n",
    "- All words must have their first letter capitalized.\n",
    "- If the final result is longer than 140 chars it must return false.\n",
    "- If the input or the result is an empty string it must return false."
   ]
  },
  {
   "cell_type": "code",
   "execution_count": 44,
   "metadata": {},
   "outputs": [],
   "source": [
    "import re\n",
    "\n",
    "def generate_hashtag(s):\n",
    "    \n",
    "    \"\"\" \n",
    "    Takes in a string and generates a hastag longer than 0 and smaller than 140 characters.\n",
    "    Each word in the hastag must be capitalized.\n",
    "    \n",
    "    Input: a string.\n",
    "    Output: a string preceded by # with all word in input capitalized.\n",
    "    \"\"\"\n",
    "    \n",
    "    # find words using boundaries\n",
    "    pattern = r'\\b\\w+\\b'\n",
    "    \n",
    "    # check if not empty string\n",
    "    if len(s) > 0:\n",
    "        \n",
    "        # prepend hashtag and lower, capitalize and join all regez matches\n",
    "        output = '#' + ''.join([w.lower().capitalize() for w in re.findall(pattern, s)])\n",
    "        \n",
    "        return output if len(output) <= 140 else False\n",
    "        \n",
    "    else:\n",
    "        return False"
   ]
  }
 ],
 "metadata": {
  "kernelspec": {
   "display_name": "Python 3",
   "language": "python",
   "name": "python3"
  },
  "language_info": {
   "codemirror_mode": {
    "name": "ipython",
    "version": 3
   },
   "file_extension": ".py",
   "mimetype": "text/x-python",
   "name": "python",
   "nbconvert_exporter": "python",
   "pygments_lexer": "ipython3",
   "version": "3.7.4"
  }
 },
 "nbformat": 4,
 "nbformat_minor": 2
}
