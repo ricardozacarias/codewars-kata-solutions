{
 "cells": [
  {
   "cell_type": "markdown",
   "metadata": {},
   "source": [
    "## Range Extraction\n",
    "[codewars-link](https://www.codewars.com/kata/51ba717bb08c1cd60f00002f)\n",
    "#### tags: algorithms, strings, formatting\n",
    "\n",
    "- A format for expressing an ordered list of integers is to use a comma separated list of either individual integers or a range of integers denoted by the starting integer separated from the end integer in the range by a dash, '-'. The range includes all integers in the interval including both endpoints. It is not considered a range unless it spans at least 3 numbers. For example (\"12, 13, 15-17\"). Complete the solution so that it takes a list of integers in increasing order and returns a correctly formatted string in the range format."
   ]
  },
  {
   "cell_type": "code",
   "execution_count": 144,
   "metadata": {},
   "outputs": [],
   "source": [
    "import numpy as np"
   ]
  },
  {
   "cell_type": "code",
   "execution_count": 145,
   "metadata": {},
   "outputs": [
    {
     "data": {
      "text/plain": [
       "[-3, -1, -1, -1, -1, -2, -1, -1, -2, -1, -1, -1, -1, -3, -1, -2, -1, -1, -1]"
      ]
     },
     "execution_count": 145,
     "metadata": {},
     "output_type": "execute_result"
    }
   ],
   "source": [
    "test = [-6,-3,-2,-1,0,1,3,4,5,7,8,9,10,11,14,15,17,18,19,20]\n",
    "test2 = [test[i] - test[i+1] for i in range(len(test)-1)]\n",
    "test2"
   ]
  },
  {
   "cell_type": "code",
   "execution_count": 141,
   "metadata": {},
   "outputs": [
    {
     "name": "stdout",
     "output_type": "stream",
     "text": [
      "-6,-3-1,1,3-5,5,7-11,11,14-15,15,17-20\n"
     ]
    }
   ],
   "source": [
    "count = 0\n",
    "output = []\n",
    "\n",
    "for i in range(len(test)-1):\n",
    "    \n",
    "    hey = test[i] - test[i+1]\n",
    "    \n",
    "    if hey == -1 and count == 0:\n",
    "        count += 1\n",
    "        start = str(test[i])\n",
    "        \n",
    "    if hey == -1 and count != 0:\n",
    "        count += 1\n",
    "    \n",
    "    if hey != -1 and count >= 2:\n",
    "        count = 0\n",
    "        end = str(test[i])\n",
    "        output += [start+'-'+end]\n",
    "    \n",
    "    if hey != -1 and count == 1:\n",
    "        output += [str(test[i-1]) + ',' + str(test[i])]\n",
    "        count = 0\n",
    "    \n",
    "    if hey != -1 and count == 0:\n",
    "        output += [str(test[i])]\n",
    "        \n",
    "    if hey == -1 and i+2 == len(test) and count >= 2:\n",
    "        count = 0\n",
    "        end = str(test[i+1])\n",
    "        output += [start + '-' + end]\n",
    "        \n",
    "print(','.join(output))\n"
   ]
  },
  {
   "cell_type": "code",
   "execution_count": 138,
   "metadata": {},
   "outputs": [
    {
     "data": {
      "text/plain": [
       "['-6', '-3-1', '3-5', '7-11', '14,15', '17-20']"
      ]
     },
     "execution_count": 138,
     "metadata": {},
     "output_type": "execute_result"
    }
   ],
   "source": []
  },
  {
   "cell_type": "code",
   "execution_count": null,
   "metadata": {},
   "outputs": [],
   "source": []
  },
  {
   "cell_type": "code",
   "execution_count": null,
   "metadata": {},
   "outputs": [],
   "source": []
  }
 ],
 "metadata": {
  "kernelspec": {
   "display_name": "Python 3",
   "language": "python",
   "name": "python3"
  },
  "language_info": {
   "codemirror_mode": {
    "name": "ipython",
    "version": 3
   },
   "file_extension": ".py",
   "mimetype": "text/x-python",
   "name": "python",
   "nbconvert_exporter": "python",
   "pygments_lexer": "ipython3",
   "version": "3.7.4"
  }
 },
 "nbformat": 4,
 "nbformat_minor": 2
}
