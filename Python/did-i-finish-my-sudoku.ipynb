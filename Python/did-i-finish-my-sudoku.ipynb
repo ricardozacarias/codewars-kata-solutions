{
 "cells": [
  {
   "cell_type": "markdown",
   "metadata": {},
   "source": [
    "### Did I Finish my Sudoku?\n",
    "\n",
    "- Write a function .done_or_not passing a board as parameter. \n",
    "- If the board is valid return *'Finished!'*, otherwise return *'Try again!'.\n",
    "\n",
    "**Sudoku rules:**\n",
    "- Complete the Sudoku puzzle so that each and every row, column, and region contains the numbers one through nine only once."
   ]
  },
  {
   "cell_type": "code",
   "execution_count": 2,
   "metadata": {},
   "outputs": [],
   "source": [
    "import numpy as np"
   ]
  },
  {
   "cell_type": "code",
   "execution_count": 1,
   "metadata": {},
   "outputs": [],
   "source": [
    "def done_or_not(board):\n",
    "    \n",
    "    \"\"\" \n",
    "    Check if sudoku is done or not.\n",
    "    Input: a filled Sudoku board (list of lists)\n",
    "    Output: A string stating whether the Sudoku is finished or not.\n",
    "    \"\"\"\n",
    "    \n",
    "    board = np.array(board)\n",
    "    \n",
    "    # sum rows\n",
    "    sum1 = list(np.sum(board, axis=0))\n",
    "    \n",
    "    # sum columns\n",
    "    sum2 = list(np.sum(board, axis=1))\n",
    "    \n",
    "    # sum boxes\n",
    "    sum3 = [np.sum(board[0:3, 0:3]),\n",
    "           np.sum(board[0:3, 3:6]),\n",
    "           np.sum(board[0:3, 6:9]),\n",
    "           np.sum(board[3:6, 0:3]),\n",
    "           np.sum(board[3:6, 3:6]),\n",
    "           np.sum(board[3:6, 6:9]),\n",
    "           np.sum(board[6:9, 0:3]),\n",
    "           np.sum(board[6:9, 3:6]),\n",
    "           np.sum(board[6:9, 6:9])]\n",
    "    \n",
    "    # check if all sums equal\n",
    "    if sum1 == sum2 == sum3 == [45]*9:\n",
    "        return 'Finished!'\n",
    "\n",
    "    else:\n",
    "        return 'Try again!'"
   ]
  }
 ],
 "metadata": {
  "kernelspec": {
   "display_name": "Python 3",
   "language": "python",
   "name": "python3"
  },
  "language_info": {
   "codemirror_mode": {
    "name": "ipython",
    "version": 3
   },
   "file_extension": ".py",
   "mimetype": "text/x-python",
   "name": "python",
   "nbconvert_exporter": "python",
   "pygments_lexer": "ipython3",
   "version": "3.7.4"
  }
 },
 "nbformat": 4,
 "nbformat_minor": 2
}
