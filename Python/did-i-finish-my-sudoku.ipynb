{
 "cells": [
  {
   "cell_type": "markdown",
   "metadata": {},
   "source": [
    "### Did I Finish my Sudoku?\n",
    "\n",
    "- Write a function .done_or_not passing a board as parameter. \n",
    "- If the board is valid return *'Finished!'*, otherwise return *'Try again!'.\n",
    "\n",
    "**Sudoku rules:**\n",
    "- Complete the Sudoku puzzle so that each and every row, column, and region contains the numbers one through nine only once."
   ]
  },
  {
   "cell_type": "code",
   "execution_count": 14,
   "metadata": {},
   "outputs": [],
   "source": [
    "import numpy as np"
   ]
  },
  {
   "cell_type": "code",
   "execution_count": 2,
   "metadata": {},
   "outputs": [
    {
     "data": {
      "text/plain": [
       "[1, 2, 3, 4, 5, 6, 7, 8, 9]"
      ]
     },
     "execution_count": 2,
     "metadata": {},
     "output_type": "execute_result"
    }
   ],
   "source": [
    "def done_or_not(board):\n",
    "    \n",
    "    board = np.array(board)\n",
    "    \n",
    "    sum1 = list(np.sum(board, axis=0))\n",
    "    sum2 = list(np.sum(board, axis=1))\n",
    "    sum3 = [np.sum(board[0:3, 0:3]),\n",
    "           np.sum(board[0:3, 3:6]),\n",
    "           np.sum(board[0:3, 6:9]),\n",
    "           np.sum(board[3:6, 0:3]),\n",
    "           np.sum(board[3:6, 3:6]),\n",
    "           np.sum(board[3:6, 6:9]),\n",
    "           np.sum(board[6:9, 0:3]),\n",
    "           np.sum(board[6:9, 3:6]),\n",
    "           np.sum(board[6:9, 6:9])]\n",
    "    \n",
    "    \n",
    "    if sum1 == sum2 == sum3 == [45]*9:\n",
    "        return 'Finished!'\n",
    "\n",
    "    else:\n",
    "        return 'Try again!'"
   ]
  }
 ],
 "metadata": {
  "kernelspec": {
   "display_name": "Python 3",
   "language": "python",
   "name": "python3"
  },
  "language_info": {
   "codemirror_mode": {
    "name": "ipython",
    "version": 3
   },
   "file_extension": ".py",
   "mimetype": "text/x-python",
   "name": "python",
   "nbconvert_exporter": "python",
   "pygments_lexer": "ipython3",
   "version": "3.7.4"
  }
 },
 "nbformat": 4,
 "nbformat_minor": 2
}
