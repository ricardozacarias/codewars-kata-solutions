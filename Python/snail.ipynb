{
 "cells": [
  {
   "cell_type": "markdown",
   "metadata": {},
   "source": [
    "## Snail Sort\n",
    "[codewars-link](https://www.codewars.com/kata/521c2db8ddc89b9b7a0000c1)\n",
    "#### tags: algorithms, arrays\n",
    "\n",
    "- Given an n x n array, return the array elements arranged from outermost elements to the middle element, traveling clockwise.\n",
    "\n",
    "- Example:\n",
    "\n",
    "*input array* = [[1,2,3],\n",
    "         [4,5,6],\n",
    "         [7,8,9]]\n",
    "\n",
    "*output* **>** [1,2,3,6,9,8,7,4,5]\n",
    "\n",
    "**In other words, get the numbers in order as in this picture.**\n",
    "![title](http://www.haan.lu/files/2513/8347/2456/snail.png)"
   ]
  },
  {
   "cell_type": "code",
   "execution_count": 1,
   "metadata": {},
   "outputs": [],
   "source": [
    "def snail(snail_map):\n",
    "    \n",
    "    \"\"\"\n",
    "    Method: add each turn and remove it from the array in loops of 4 turns.\n",
    "            forward first 2 turns, reverse last 2 turns every loop.\n",
    "    Input: and n*n array\n",
    "    Output: the array elements arranged from outer most elemets to the middle, traveling clockwise.\n",
    "    \"\"\"\n",
    "    \n",
    "    # turn map into array\n",
    "    snail_map = np.array(snail_map)\n",
    "    \n",
    "    output = []\n",
    "    \n",
    "    while snail_map.size > 0:\n",
    "    \n",
    "        if snail_map.size > 0:\n",
    "            # add first row and remove it\n",
    "            output += [snail_map[0,:]]\n",
    "            snail_map = snail_map[1:,:]\n",
    "        else:\n",
    "            break\n",
    "        \n",
    "        if snail_map.size > 0:\n",
    "            # add last column and remove it\n",
    "            output += [snail_map[:,-1]]\n",
    "            snail_map = snail_map[:,:-1]\n",
    "        else:\n",
    "            break\n",
    "        \n",
    "        if snail_map.size > 0:\n",
    "            # add last row in reverse and remove it\n",
    "            output += [snail_map[-1,::-1]]\n",
    "            snail_map = snail_map[:-1,:]\n",
    "        else:\n",
    "            break\n",
    "        \n",
    "        if snail_map.size > 0:\n",
    "            # add first column in reverse and remove it\n",
    "            output += [snail_map[::-1,0]]\n",
    "            snail_map = snail_map[:,1:]       \n",
    "        else:\n",
    "            break\n",
    "    \n",
    "    return list(np.concatenate(output)) if len(output) > 1 else list(output)"
   ]
  }
 ],
 "metadata": {
  "kernelspec": {
   "display_name": "Python 3",
   "language": "python",
   "name": "python3"
  },
  "language_info": {
   "codemirror_mode": {
    "name": "ipython",
    "version": 3
   },
   "file_extension": ".py",
   "mimetype": "text/x-python",
   "name": "python",
   "nbconvert_exporter": "python",
   "pygments_lexer": "ipython3",
   "version": "3.7.4"
  }
 },
 "nbformat": 4,
 "nbformat_minor": 2
}
