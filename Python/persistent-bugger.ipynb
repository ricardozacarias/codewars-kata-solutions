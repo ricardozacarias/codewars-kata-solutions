{
 "cells": [
  {
   "cell_type": "markdown",
   "metadata": {},
   "source": [
    "### Persistent Bugger\n",
    "\n",
    "Write a function, *persistence*, that takes in a positive parameter num and returns its multiplicative persistence, which is the number of times you must multiply the digits in num until you reach a single digit."
   ]
  },
  {
   "cell_type": "code",
   "execution_count": 1,
   "metadata": {},
   "outputs": [],
   "source": [
    "from functools import reduce\n",
    "\n",
    "def persistence(n):\n",
    "    \n",
    "    \"\"\" \n",
    "    Calculates multiplicative persistance\n",
    "    Input: a positive number\n",
    "    Output: the number of times you must multiply the digits until you reach a single digit.\n",
    "    \n",
    "    Examples: persistence(39) => 3 - Because 3*9 = 27, 2*7 = 14, 1*4=4 and 4 has only one digit.\n",
    "              persistence(999) => 4 - Because 9*9*9 = 729, 7*2*9 = 126, 1*2*6 = 12, and finally 1*2 = 2.\n",
    "    \"\"\"\n",
    "    \n",
    "    # turn n into string\n",
    "    digits = str(n)\n",
    "    \n",
    "    counter = 0\n",
    "    while len(digits) > 1:   \n",
    "        # use reduce function to multiply each digit and repeat process until len(digits) == 1\n",
    "        digits = str(reduce((lambda x, y: x * y), [int(x) for x in digits]))\n",
    "        counter += 1\n",
    "    \n",
    "    return counter"
   ]
  }
 ],
 "metadata": {
  "kernelspec": {
   "display_name": "Python 3",
   "language": "python",
   "name": "python3"
  },
  "language_info": {
   "codemirror_mode": {
    "name": "ipython",
    "version": 3
   },
   "file_extension": ".py",
   "mimetype": "text/x-python",
   "name": "python",
   "nbconvert_exporter": "python",
   "pygments_lexer": "ipython3",
   "version": "3.7.4"
  }
 },
 "nbformat": 4,
 "nbformat_minor": 2
}
